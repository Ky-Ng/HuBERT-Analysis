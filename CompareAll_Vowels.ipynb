{
 "cells": [
  {
   "cell_type": "code",
   "execution_count": 9,
   "metadata": {},
   "outputs": [],
   "source": [
    "import numpy as np\n",
    "import matplotlib.pyplot as plt\n",
    "import os"
   ]
  },
  {
   "cell_type": "markdown",
   "metadata": {},
   "source": [
    "Things to figure out // TODO\n",
    "- plotting all of the distinctions\n",
    "- heatmap for 1024 over encoders (color code differentiate, same if overlap)\n",
    "- doing this entire process many times"
   ]
  },
  {
   "cell_type": "code",
   "execution_count": 10,
   "metadata": {},
   "outputs": [],
   "source": [
    "def cohensd(x, y):\n",
    "    mnx = np.mean(x)\n",
    "    mny = np. mean(y)\n",
    "    sdx = np.std(x)\n",
    "    sdy = np.std(y)\n",
    "    return ((mnx-mny) / np.sqrt((((sdx**2)+(sdy**2))/2)))"
   ]
  },
  {
   "cell_type": "code",
   "execution_count": 11,
   "metadata": {},
   "outputs": [],
   "source": [
    "SEGS = [\"iy\", \"ih\", \"ey\", \"eh\", \"ae\", \"uw\", \"uh\", \"ow\", \"ao\", \"aa\"]"
   ]
  },
  {
   "cell_type": "code",
   "execution_count": 13,
   "metadata": {},
   "outputs": [
    {
     "name": "stdout",
     "output_type": "stream",
     "text": [
      "10\n"
     ]
    }
   ],
   "source": [
    "HIDDEN_REPRESENTATIONS = [np.load(\n",
    "    os.path.join(\"data\", f\"HS_{seg}.npy\")\n",
    ") for seg in SEGS]\n",
    "\n",
    "print(len(HIDDEN_REPRESENTATIONS))"
   ]
  },
  {
   "cell_type": "code",
   "execution_count": null,
   "metadata": {},
   "outputs": [],
   "source": [
    "tn = 1\n",
    "num_features = 1024\n",
    "CD = np.empty((25, 1024, 10, 10, tn))"
   ]
  },
  {
   "cell_type": "code",
   "execution_count": null,
   "metadata": {},
   "outputs": [],
   "source": [
    "for token in range(tn):\n",
    "    # Sample the hidden representations\n",
    "    sampled_hidden_rep = []\n",
    "    for seg_idx in range(len(SEGS)):\n",
    "        sampled_hidden_rep.append(\n",
    "            HIDDEN_REPRESENTATIONS[seg_idx][:, :, np.random.choice(HIDDEN_REPRESENTATIONS.shape())]\n",
    "        )\n",
    "\n",
    "    for v1 in range(len(SEGS)):\n",
    "        for v2 in range(len(SEGS)):\n",
    "            if not v2 > v1:\n",
    "                continue\n",
    "            for feature in range(num_features):\n",
    "                CD[]"
   ]
  }
 ],
 "metadata": {
  "kernelspec": {
   "display_name": ".transformers-venv",
   "language": "python",
   "name": "python3"
  },
  "language_info": {
   "codemirror_mode": {
    "name": "ipython",
    "version": 3
   },
   "file_extension": ".py",
   "mimetype": "text/x-python",
   "name": "python",
   "nbconvert_exporter": "python",
   "pygments_lexer": "ipython3",
   "version": "3.9.6"
  }
 },
 "nbformat": 4,
 "nbformat_minor": 2
}
