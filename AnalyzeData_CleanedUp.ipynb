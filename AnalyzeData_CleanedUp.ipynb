{
 "cells": [
  {
   "cell_type": "markdown",
   "metadata": {},
   "source": [
    "# Analyze HuBERT Data"
   ]
  },
  {
   "cell_type": "code",
   "execution_count": 34,
   "metadata": {},
   "outputs": [],
   "source": [
    "# Utilitiies\n",
    "import numpy as np\n",
    "import matplotlib.pyplot as plt\n",
    "import glob \n",
    "import os\n",
    "import sys"
   ]
  },
  {
   "cell_type": "code",
   "execution_count": 35,
   "metadata": {},
   "outputs": [],
   "source": [
    "SEGMENTS = [\"aa\", \"iy\"]"
   ]
  },
  {
   "cell_type": "code",
   "execution_count": 36,
   "metadata": {},
   "outputs": [],
   "source": [
    "def load_representations() -> list[np.array]:\n",
    "    pass"
   ]
  },
  {
   "cell_type": "code",
   "execution_count": 37,
   "metadata": {},
   "outputs": [],
   "source": [
    "hidden_representations = []\n",
    "save_folder = \"./data\"\n",
    "\n",
    "for segment in SEGMENTS:\n",
    "    save_path = os.path.join(save_folder, f\"HS_{segment}.npy\")\n",
    "    hidden_representations.append(\n",
    "        np.load(save_path)\n",
    "    )"
   ]
  },
  {
   "cell_type": "code",
   "execution_count": 38,
   "metadata": {},
   "outputs": [],
   "source": [
    "# print(hidden_representations[0].shape)\n",
    "# print(hidden_representations[1].shape)"
   ]
  },
  {
   "cell_type": "code",
   "execution_count": 39,
   "metadata": {},
   "outputs": [],
   "source": [
    "# Resample same ammount\n",
    "for segment_idx in range(len(SEGMENTS)):\n",
    "\n",
    "    # TODO understand how the np.random.choice works, TODO check replace = false\n",
    "    hidden_representations[segment_idx] = hidden_representations[segment_idx][:, :, np.random.choice(\n",
    "        hidden_representations[segment_idx].shape[2],\n",
    "        min(hidden_representations[0].shape[2], hidden_representations[1].shape[2]), replace=False)]"
   ]
  },
  {
   "cell_type": "markdown",
   "metadata": {},
   "source": [
    "Goal: Create a graph where y index represents distinguishability through x (each encoder) to prove \"better and better\" representations\n",
    "\n",
    "Note: at each layer we have 500, 1024 vectors for 2 segments\n",
    "how do we compare them?\n",
    "\n",
    "- average across the 500 frames at the layer  --> note we don't get the context of the values as well"
   ]
  },
  {
   "cell_type": "code",
   "execution_count": 40,
   "metadata": {},
   "outputs": [],
   "source": [
    "def cohensd(x, y):\n",
    "    mnx = np.mean(x)\n",
    "    mny = np. mean(y)\n",
    "    sdx = np.std(x)\n",
    "    sdy = np.std(y)\n",
    "    return ((mnx-mny) / np.sqrt((((sdx**2)+(sdy**2))/2)))"
   ]
  },
  {
   "cell_type": "code",
   "execution_count": 41,
   "metadata": {},
   "outputs": [],
   "source": [
    "# num_encoders = 25\n",
    "# num_frames = 500\n",
    "# vector_len = 1024\n",
    "# effect_sizes = np.empty((num_encoders, vector_len))\n",
    "# for encoder_idx in range(num_encoders):\n",
    "#     # for frame in range(num_frames):\n",
    "#     #     for vector in\n",
    "\n",
    "#     for vector_component in range(vector_len):\n",
    "#         effect_sizes[encoder_idx, vector_component] = cohensd(hidden_representations[0][encoder_idx, vector_component, :],\n",
    "#                                                               hidden_representations[1][encoder_idx, vector_component, :])"
   ]
  },
  {
   "cell_type": "code",
   "execution_count": 42,
   "metadata": {},
   "outputs": [],
   "source": [
    "# # See how many hidden representations's vector component is \"distinctive\"\n",
    "# num_distinctive = np.abs(effect_sizes) > 0.5\n",
    "# # TODO document this\n",
    "# print(effect_sizes.shape)\n",
    "# print(np.prod(effect_sizes.shape))\n",
    "# print(100*np.sum(num_distinctive)/np.prod(effect_sizes.shape))"
   ]
  },
  {
   "cell_type": "code",
   "execution_count": 43,
   "metadata": {},
   "outputs": [],
   "source": [
    "# # axis = 1 means over rows\n",
    "# distinctiveness_by_encoder = np.sum(num_distinctive, axis=1)\n",
    "\n",
    "# plt.plot(distinctiveness_by_encoder, \"-o\")"
   ]
  },
  {
   "cell_type": "markdown",
   "metadata": {},
   "source": [
    "Things wrong with this program:\n",
    "1) Unecessarily loading the data each time, but take a random sample each time which belongs to a copy\n",
    "2) "
   ]
  },
  {
   "cell_type": "code",
   "execution_count": 44,
   "metadata": {},
   "outputs": [
    {
     "ename": "IndexError",
     "evalue": "list index out of range",
     "output_type": "error",
     "traceback": [
      "\u001b[0;31m---------------------------------------------------------------------------\u001b[0m",
      "\u001b[0;31mIndexError\u001b[0m                                Traceback (most recent call last)",
      "Cell \u001b[0;32mIn[44], line 29\u001b[0m\n\u001b[1;32m     26\u001b[0m \u001b[38;5;66;03m# Resample same ammount\u001b[39;00m\n\u001b[1;32m     27\u001b[0m \u001b[38;5;28;01mfor\u001b[39;00m segment_idx \u001b[38;5;129;01min\u001b[39;00m \u001b[38;5;28mrange\u001b[39m(\u001b[38;5;28mlen\u001b[39m(SEGMENTS)):\n\u001b[1;32m     28\u001b[0m     \u001b[38;5;66;03m# TODO understand how the np.random.choice works, TODO check replace = false\u001b[39;00m\n\u001b[0;32m---> 29\u001b[0m     hidden_representations\u001b[38;5;241m.\u001b[39mappend(\u001b[43mhidden_representations\u001b[49m\u001b[43m[\u001b[49m\u001b[43msegment_idx\u001b[49m\u001b[43m]\u001b[49m[:, :, np\u001b[38;5;241m.\u001b[39mrandom\u001b[38;5;241m.\u001b[39mchoice(\n\u001b[1;32m     30\u001b[0m         hidden_representations[segment_idx]\u001b[38;5;241m.\u001b[39mshape[\u001b[38;5;241m2\u001b[39m],\n\u001b[1;32m     31\u001b[0m         \u001b[38;5;28mmin\u001b[39m(hidden_representations[\u001b[38;5;241m0\u001b[39m]\u001b[38;5;241m.\u001b[39mshape[\u001b[38;5;241m2\u001b[39m], hidden_representations[\u001b[38;5;241m1\u001b[39m]\u001b[38;5;241m.\u001b[39mshape[\u001b[38;5;241m2\u001b[39m],\n\u001b[1;32m     32\u001b[0m         \u001b[38;5;241m100\u001b[39m), replace\u001b[38;5;241m=\u001b[39m\u001b[38;5;28;01mFalse\u001b[39;00m)])\n\u001b[1;32m     34\u001b[0m effect_sizes \u001b[38;5;241m=\u001b[39m np\u001b[38;5;241m.\u001b[39mempty((num_encoders, vector_len))\n\u001b[1;32m     35\u001b[0m \u001b[38;5;28;01mfor\u001b[39;00m encoder_idx \u001b[38;5;129;01min\u001b[39;00m \u001b[38;5;28mrange\u001b[39m(num_encoders):\n\u001b[1;32m     36\u001b[0m     \u001b[38;5;66;03m# for frame in range(num_frames):\u001b[39;00m\n\u001b[1;32m     37\u001b[0m     \u001b[38;5;66;03m#     for vector in\u001b[39;00m\n",
      "\u001b[0;31mIndexError\u001b[0m: list index out of range"
     ]
    }
   ],
   "source": [
    "num_encoders = 25\n",
    "num_frames = 500\n",
    "vector_len = 1024\n",
    "num_trials = 2\n",
    "\n",
    "distinction_all = np.zeros((num_trials, num_encoders))\n",
    "\n",
    "all_hidden_representations = []\n",
    "for segment in SEGMENTS:\n",
    "    save_path = os.path.join(save_folder, f\"HS_{segment}.npy\")\n",
    "    all_hidden_representations.append(\n",
    "        np.load(save_path)\n",
    "    )\n",
    "\n",
    "\n",
    "for trial in range(num_trials):\n",
    "    save_folder = \"./data\"\n",
    "    hidden_representations = []\n",
    "\n",
    "    for segment in SEGMENTS:\n",
    "        save_path = os.path.join(save_folder, f\"HS_{segment}.npy\")\n",
    "        all_hidden_representations.append(\n",
    "            np.load(save_path)\n",
    "        )\n",
    "\n",
    "    # Resample same ammount\n",
    "    for segment_idx in range(len(SEGMENTS)):\n",
    "        # TODO understand how the np.random.choice works, TODO check replace = false\n",
    "        hidden_representations.append(hidden_representations[segment_idx][:, :, np.random.choice(\n",
    "            hidden_representations[segment_idx].shape[2],\n",
    "            min(hidden_representations[0].shape[2], hidden_representations[1].shape[2],\n",
    "            100), replace=False)])\n",
    "\n",
    "    effect_sizes = np.empty((num_encoders, vector_len))\n",
    "    for encoder_idx in range(num_encoders):\n",
    "        # for frame in range(num_frames):\n",
    "        #     for vector in\n",
    "\n",
    "        for vector_component in range(vector_len):\n",
    "            effect_sizes[encoder_idx, vector_component] = cohensd(hidden_representations[0][encoder_idx, vector_component, :],\n",
    "                                                                  hidden_representations[1][encoder_idx, vector_component, :])\n",
    "\n",
    "    distinctive_elements = []\n",
    "    for encoder_idx in range(num_encoders):\n",
    "        distinctive_elements.append(np.argwhere(\n",
    "            np.abs(effect_sizes[encoder_idx, :]) > 0.5))\n",
    "        plt.subplot(3, 1, 1)\n",
    "        # plt.plot([np.abs(effect_size) > 0.5 for effect_size in effect_sizes[encoder_idx, :]])\n",
    "        # plt.plot(effect_sizes[encoder_idx, :])\n",
    "        plt.plot(effect_sizes[encoder_idx, :])\n",
    "        plt.plot([0, vector_len-1], [-0.5, -0.5], 'g')\n",
    "        plt.plot([0, vector_len-1], [0.5, 0.5], 'g')\n",
    "\n",
    "    # See how many hidden representations's vector component is \"distinctive\"\n",
    "    num_distinctive = np.abs(effect_sizes) > 0.5\n",
    "\n",
    "    # TODO document this\n",
    "    # print(effect_sizes.shape)\n",
    "    # print(np.prod(effect_sizes.shape))\n",
    "    # print(100*np.sum(num_distinctive)/np.prod(effect_sizes.shape))\n",
    "\n",
    "    # axis = 1 means over rows\n",
    "    distinctiveness_by_encoder = np.sum(num_distinctive, axis=1)\n",
    "    distinction_all[trial, :] = 100 * distinctiveness_by_encoder / 1024\n",
    "\n",
    "    plt.subplot(3, 1, 2)\n",
    "    plt.plot(distinctiveness_by_encoder, \"-o\")\n",
    "\n",
    "mean_of_distinctivness = np.mean(distinction_all, axis=0)\n",
    "std_of_distinctivness = np.std(distinction_all, axis=0)\n",
    "\n",
    "plt.subplot(3, 1, 3)\n",
    "plt.plot(np.arange(num_encoders), mean_of_distinctivness, 'r')\n",
    "plt.fill_between(np.arange(num_encoders),\n",
    "                 mean_of_distinctivness-(std_of_distinctivness/2),\n",
    "                 mean_of_distinctivness+(std_of_distinctivness/2),\n",
    "                 color='b',\n",
    "                 alpha=0.5)  # alpha sets the transparency\n",
    "\n",
    "plt.ylabel(\"% Distinguishing Vector Elements\")\n",
    "plt.xlabel(\"Encoder\")"
   ]
  }
 ],
 "metadata": {
  "kernelspec": {
   "display_name": ".transformers-venv",
   "language": "python",
   "name": "python3"
  },
  "language_info": {
   "codemirror_mode": {
    "name": "ipython",
    "version": 3
   },
   "file_extension": ".py",
   "mimetype": "text/x-python",
   "name": "python",
   "nbconvert_exporter": "python",
   "pygments_lexer": "ipython3",
   "version": "3.9.6"
  }
 },
 "nbformat": 4,
 "nbformat_minor": 2
}
