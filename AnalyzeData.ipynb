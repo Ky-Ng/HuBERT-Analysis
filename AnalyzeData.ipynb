{
 "cells": [
  {
   "cell_type": "markdown",
   "metadata": {},
   "source": [
    "# Analyze HuBERT Data"
   ]
  },
  {
   "cell_type": "code",
   "execution_count": 117,
   "metadata": {},
   "outputs": [],
   "source": [
    "# Utilitiies\n",
    "import numpy as np\n",
    "import matplotlib.pyplot as plt\n",
    "import glob \n",
    "import os"
   ]
  },
  {
   "cell_type": "code",
   "execution_count": 118,
   "metadata": {},
   "outputs": [],
   "source": [
    "SEGMENTS = [\"aa\", \"iy\"]"
   ]
  },
  {
   "cell_type": "code",
   "execution_count": 119,
   "metadata": {},
   "outputs": [],
   "source": [
    "hidden_representations = []\n",
    "save_folder = \"./data\"\n",
    "\n",
    "for segment in SEGMENTS:\n",
    "    save_path = os.path.join(save_folder, f\"HS_{segment}.npy\")\n",
    "    hidden_representations.append(\n",
    "        np.load(save_path)\n",
    "    )"
   ]
  },
  {
   "cell_type": "code",
   "execution_count": 120,
   "metadata": {},
   "outputs": [
    {
     "name": "stdout",
     "output_type": "stream",
     "text": [
      "(25, 1024, 138)\n",
      "(25, 1024, 267)\n"
     ]
    }
   ],
   "source": [
    "# print(hidden_representations[0].shape)\n",
    "# print(hidden_representations[1].shape)"
   ]
  },
  {
   "cell_type": "code",
   "execution_count": 121,
   "metadata": {},
   "outputs": [],
   "source": [
    "# Resample same ammount\n",
    "for segment_idx in range(len(SEGMENTS)):\n",
    "\n",
    "    # TODO understand how the np.random.choice works, TODO check replace = false\n",
    "    hidden_representations[segment_idx] = hidden_representations[segment_idx][:, :, np.random.choice(\n",
    "        hidden_representations[segment_idx].shape[2],\n",
    "        min(hidden_representations[0].shape[2], hidden_representations[1].shape[2]), replace=False)]"
   ]
  },
  {
   "cell_type": "markdown",
   "metadata": {},
   "source": [
    "Goal: Create a graph where y index represents distinguishability through x (each encoder) to prove \"better and better\" representations\n",
    "\n",
    "Note: at each layer we have 500, 1024 vectors for 2 segments\n",
    "how do we compare them?\n",
    "\n",
    "- average across the 500 frames at the layer  --> note we don't get the context of the values as well"
   ]
  },
  {
   "cell_type": "code",
   "execution_count": 122,
   "metadata": {},
   "outputs": [],
   "source": [
    "def cohensd(x, y):\n",
    "    mnx = np.mean(x)\n",
    "    mny = np. mean(y)\n",
    "    sdx = np.std(x)\n",
    "    sdy = np.std(y)\n",
    "    return ((mnx-mny) / np.sqrt((((sdx**2)+(sdy**2))/2)))"
   ]
  },
  {
   "cell_type": "code",
   "execution_count": 123,
   "metadata": {},
   "outputs": [],
   "source": [
    "# num_encoders = 25\n",
    "# num_frames = 500\n",
    "# vector_len = 1024\n",
    "# effect_sizes = np.empty((num_encoders, vector_len))\n",
    "# for encoder_idx in range(num_encoders):\n",
    "#     # for frame in range(num_frames):\n",
    "#     #     for vector in\n",
    "\n",
    "#     for vector_component in range(vector_len):\n",
    "#         effect_sizes[encoder_idx, vector_component] = cohensd(hidden_representations[0][encoder_idx, vector_component, :],\n",
    "#                                                               hidden_representations[1][encoder_idx, vector_component, :])"
   ]
  },
  {
   "cell_type": "code",
   "execution_count": 124,
   "metadata": {},
   "outputs": [],
   "source": [
    "# # See how many hidden representations's vector component is \"distinctive\"\n",
    "# num_distinctive = np.abs(effect_sizes) > 0.5\n",
    "# # TODO document this\n",
    "# print(effect_sizes.shape)\n",
    "# print(np.prod(effect_sizes.shape))\n",
    "# print(100*np.sum(num_distinctive)/np.prod(effect_sizes.shape))"
   ]
  },
  {
   "cell_type": "code",
   "execution_count": 125,
   "metadata": {},
   "outputs": [],
   "source": [
    "# # axis = 1 means over rows\n",
    "# distinctiveness_by_encoder = np.sum(num_distinctive, axis=1)\n",
    "\n",
    "# plt.plot(distinctiveness_by_encoder, \"-o\")"
   ]
  },
  {
   "cell_type": "code",
   "execution_count": 126,
   "metadata": {},
   "outputs": [
    {
     "name": "stdout",
     "output_type": "stream",
     "text": [
      "(25, 1024)\n",
      "25600\n",
      "31.8671875\n"
     ]
    },
    {
     "data": {
      "text/plain": [
       "[<matplotlib.lines.Line2D at 0x11f40a4c0>]"
      ]
     },
     "execution_count": 126,
     "metadata": {},
     "output_type": "execute_result"
    },
    {
     "data": {
      "image/png": "[encoded data removed]",
      "text/plain": [
       "<Figure size 640x480 with 1 Axes>"
      ]
     },
     "metadata": {},
     "output_type": "display_data"
    }
   ],
   "source": [
    "num_encoders = 25\n",
    "num_frames = 500\n",
    "vector_len = 1024\n",
    "effect_sizes = np.empty((num_encoders, vector_len))\n",
    "for encoder_idx in range(num_encoders):\n",
    "    # for frame in range(num_frames):\n",
    "    #     for vector in\n",
    "\n",
    "    for vector_component in range(vector_len):\n",
    "        effect_sizes[encoder_idx, vector_component] = cohensd(hidden_representations[0][encoder_idx, vector_component, :],\n",
    "                                                              hidden_representations[1][encoder_idx, vector_component, :])\n",
    "\n",
    "# See how many hidden representations's vector component is \"distinctive\"\n",
    "num_distinctive = np.abs(effect_sizes) > 0.5\n",
    "# TODO document this\n",
    "print(effect_sizes.shape)\n",
    "print(np.prod(effect_sizes.shape))\n",
    "print(100*np.sum(num_distinctive)/np.prod(effect_sizes.shape))\n",
    "\n",
    "# axis = 1 means over rows\n",
    "distinctiveness_by_encoder = np.sum(num_distinctive, axis=1)\n",
    "\n",
    "plt.plot(distinctiveness_by_encoder, \"-o\")"
   ]
  }
 ],
 "metadata": {
  "kernelspec": {
   "display_name": ".transformers-venv",
   "language": "python",
   "name": "python3"
  },
  "language_info": {
   "codemirror_mode": {
    "name": "ipython",
    "version": 3
   },
   "file_extension": ".py",
   "mimetype": "text/x-python",
   "name": "python",
   "nbconvert_exporter": "python",
   "pygments_lexer": "ipython3",
   "version": "3.9.6"
  }
 },
 "nbformat": 4,
 "nbformat_minor": 2
}
